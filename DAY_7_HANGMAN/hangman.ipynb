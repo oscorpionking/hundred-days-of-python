{
 "cells": [
  {
   "cell_type": "code",
   "execution_count": 123,
   "metadata": {},
   "outputs": [],
   "source": [
    "#PART 1\n",
    "#Step 1 create a program that can pick a randaom word from a list of words\n",
    "#step two, user should be able to guess a random alphabet from the picked word, and if correct or wrong they get a feedback."
   ]
  },
  {
   "cell_type": "code",
   "execution_count": 3,
   "metadata": {},
   "outputs": [
    {
     "name": "stdout",
     "output_type": "stream",
     "text": [
      "Please add word\n",
      "['love']\n",
      "Please add word\n",
      "['love', 'life']\n",
      "your list of words for the game are ['love', 'life']\n"
     ]
    }
   ],
   "source": [
    "import random\n",
    "#choose how many words to play with\n",
    "wordnum = int(input(\"how many words do you want to play with?\"))\n",
    "wordlist = []\n",
    "    \n",
    "def worder():\n",
    "    while len(wordlist) != wordnum:\n",
    "        print(\"Please add word\")\n",
    "        word = input(\"Add a word\").lower()\n",
    "        wordlist.append(word)\n",
    "        print(wordlist)\n",
    "    print(f\"your list of words for the game are {wordlist}\")\n",
    "    \n",
    "    \n",
    "worder()\n",
    "\n",
    "#pick a random word from the list above\n",
    "rword = random.choice(wordlist).lower()\n",
    "numrword = len(str(rword))\n",
    "\n"
   ]
  },
  {
   "cell_type": "code",
   "execution_count": null,
   "metadata": {},
   "outputs": [
    {
     "name": "stdout",
     "output_type": "stream",
     "text": [
      "['l'] list summary\n",
      "summary of word is l***\n",
      "this is it l\n",
      "['l', 'v'] list summary\n",
      "summary of word is l***l*v*\n",
      "this is it llv\n",
      "['l', 'v', 'o'] list summary\n",
      "summary of word is l***l*v*lov*\n",
      "this is it llvlvo\n",
      "['l', 'v', 'o'] list summary\n",
      "summary of word is l***l*v*lov*lov*\n",
      "this is it llvlvolvo\n"
     ]
    }
   ],
   "source": [
    "#let user pick a letter and system checks if the letter is just one word, and if it's in the chosen word\n",
    "\n",
    "\n",
    "match = []\n",
    "secret = []\n",
    "secrets = \"\"\n",
    "display = \"\"\n",
    "\n",
    "gameover = False\n",
    "\n",
    "while (gameover == False and len(secrets) < numrword) or (\"*\"  in secrets):\n",
    "    \n",
    "#def play():\n",
    "   \n",
    "    inplay = input(\"type a letter\").lower()\n",
    "    \n",
    "    for word in rword:\n",
    "        if word == inplay:\n",
    "            secrets = secrets + word\n",
    "            match.append(inplay)\n",
    "        elif word in match:\n",
    "            secrets += word\n",
    "        else:\n",
    "            secrets = secrets + \"*\"\n",
    "    print (f\"{match} list summary\")\n",
    "    for item in match:\n",
    "        display += item\n",
    "    print(f\"summary of word is {secrets}\")\n",
    "    print (f\"this is it {display}\")\n",
    "    \n",
    "#PART 2 \n",
    "# create a program that uses hashes or underscores to replace the play word, and shows the customer's guess if right inside the word eg,\n",
    "#if guess is'e' in egg the output should be e__ or e--g\n",
    "\n",
    "#to create a function to calculate the output\n",
    "\n"
   ]
  }
 ],
 "metadata": {
  "kernelspec": {
   "display_name": "Python 3",
   "language": "python",
   "name": "python3"
  },
  "language_info": {
   "codemirror_mode": {
    "name": "ipython",
    "version": 3
   },
   "file_extension": ".py",
   "mimetype": "text/x-python",
   "name": "python",
   "nbconvert_exporter": "python",
   "pygments_lexer": "ipython3",
   "version": "3.12.1"
  }
 },
 "nbformat": 4,
 "nbformat_minor": 2
}
