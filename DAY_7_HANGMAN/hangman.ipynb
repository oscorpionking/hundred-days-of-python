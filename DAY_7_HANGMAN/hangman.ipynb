{
 "cells": [
  {
   "cell_type": "code",
   "execution_count": 123,
   "metadata": {},
   "outputs": [],
   "source": [
    "#PART 1\n",
    "#Step 1 create a program that can pick a randaom word from a list of words\n",
    "#step two, user should be able to guess a random alphabet from the picked word, and if correct or wrong they get a feedback."
   ]
  },
  {
   "cell_type": "code",
   "execution_count": 2,
   "metadata": {},
   "outputs": [
    {
     "name": "stdout",
     "output_type": "stream",
     "text": [
      "Please add word\n",
      "['love']\n",
      "Please add word\n",
      "['love', 'me']\n",
      "your list of words for the game are ['love', 'me']\n"
     ]
    }
   ],
   "source": [
    "import random\n",
    "#choose how many words to play with\n",
    "wordnum = int(input(\"how many words do you want to play with?\"))\n",
    "wordlist = []\n",
    "    \n",
    "def worder():\n",
    "    while len(wordlist) != wordnum:\n",
    "        print(\"Please add word\")\n",
    "        word = input(\"Add a word\").lower()\n",
    "        wordlist.append(word)\n",
    "        print(wordlist)\n",
    "    print(f\"your list of words for the game are {wordlist}\")\n",
    "    #pick a random word from the list above\n",
    "    \n",
    "\n",
    "worder()\n",
    "rword = random.choice(wordlist).lower()\n",
    "numrword = len(str(rword))\n",
    "newr = \"\"\n",
    "for letter in range(numrword):\n",
    "    newr = newr + \"*\"\n",
    "    #print(\"this loop has run\")\n",
    "    \n",
    "#print(f\"the chosen word is {rword} and secret is {newr}\")\n",
    "\n"
   ]
  },
  {
   "cell_type": "code",
   "execution_count": null,
   "metadata": {},
   "outputs": [
    {
     "name": "stdout",
     "output_type": "stream",
     "text": [
      "Your input is l\n",
      "WRONG, you have lost a life l is not in the word []\n",
      "Your input is m\n",
      "exists\n",
      "catch is: ['m']\n",
      "You got it right! mm has the letter m\n",
      "Your input is t\n",
      "WRONG, you have lost a life t is not in the word ['m']\n",
      "Your input is e\n",
      "please recheck entry\n",
      "catch is: ['m', '*']\n",
      "You got it right! * has the letter e\n"
     ]
    }
   ],
   "source": [
    "#let user pick a letter and system checks if the letter is just one word, and if it's in the chosen word\n",
    "wplay = \" \"\n",
    "secret = []\n",
    "match = []\n",
    "secrets = \"\"\n",
    "def play():\n",
    "    secrets = \"\"\n",
    "    wplay = \"\"\n",
    "    pword = input(\" type a letter\").lower()\n",
    "    wplay = wplay + pword\n",
    "    print(f\"Your input is {wplay}\")\n",
    "    if len(wplay) > 1:\n",
    "        wcheck = 0\n",
    "        print(\"Please check your entry and try again, you entered more than a word!\")\n",
    "    elif len(wplay) == 1:\n",
    "        wcheck = 1 \n",
    "        #PART 2 \n",
    "    # create a program that uses hashes or underscores to replace the play word, and shows the customer's guess if right inside the word eg,\n",
    "    #if guess is'e' in egg the output should be e__ or e--g\n",
    "        if wplay in rword:\n",
    "            for word in rword:\n",
    "                if word == wplay:\n",
    "                    if len(secret)<len(rword) and wplay not in secret:\n",
    "                        secret.append(wplay)\n",
    "                    #match.append(wplay)\n",
    "                        secrets = secrets + wplay\n",
    "                    else:\n",
    "                        print( \"please recheck entry\")\n",
    "                    \n",
    "                elif wplay in secret:\n",
    "                    print(\"exists\")\n",
    "                    secrets = secrets + wplay\n",
    "                \n",
    "                else: \n",
    "                    secret.append(\"*\")\n",
    "                    secrets = secrets + \"*\"\n",
    "\n",
    "            print(f\"catch is: {secret}\")\n",
    "            print(f\"You got it right! {secrets} has the letter {wplay}\")\n",
    "            #if wplay not in match:\n",
    "                #match.append(wplay)\n",
    "            #else:\n",
    "                #print(\"This is correct, but exists already\")\n",
    "                \n",
    "\n",
    "            \n",
    "            \n",
    "        \n",
    "        else:\n",
    "            print(f\"WRONG, you have lost a life {wplay} is not in the word {secret}\") \n",
    "    else:\n",
    "        print(\"Invalid Input\")\n",
    "win = False\n",
    "checked = 0\n",
    "while win == False:\n",
    "    for item in rword:\n",
    "        if item in secret:\n",
    "            checked = 1   \n",
    "        else:\n",
    "            checked = 0\n",
    "            play()\n",
    "            \n",
    "    if checked == 1:\n",
    "        win = True\n",
    "        print(\"Winner!\")\n",
    "    else:\n",
    "        print(\"There's an error, please check!\")\n",
    "            \n",
    "    \n",
    "\n",
    " \n",
    "\n",
    "    \n",
    "\n",
    " "
   ]
  }
 ],
 "metadata": {
  "kernelspec": {
   "display_name": "Python 3",
   "language": "python",
   "name": "python3"
  },
  "language_info": {
   "codemirror_mode": {
    "name": "ipython",
    "version": 3
   },
   "file_extension": ".py",
   "mimetype": "text/x-python",
   "name": "python",
   "nbconvert_exporter": "python",
   "pygments_lexer": "ipython3",
   "version": "3.12.1"
  }
 },
 "nbformat": 4,
 "nbformat_minor": 2
}
