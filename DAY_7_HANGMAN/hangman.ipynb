{
 "cells": [
  {
   "cell_type": "code",
   "execution_count": null,
   "metadata": {},
   "outputs": [],
   "source": [
    "#PART 1\n",
    "#Step 1 create a program that can pick a randaom word from a list of words\n",
    "#step two, user should be able to guess a random alphabet from the picked word, and if correct or wrong they get a feedback."
   ]
  },
  {
   "cell_type": "code",
   "execution_count": null,
   "metadata": {},
   "outputs": [],
   "source": [
    "import random\n",
    "#choose how many words to play with\n",
    "wordnum = int(input(\"how many words do you want to play with?\"))\n",
    "wordlist = []\n",
    "    \n",
    "def worder():\n",
    "    while len(wordlist) != wordnum:\n",
    "        print(\"Please add word\")\n",
    "        word = input(\"Add a word\")\n",
    "        wordlist.append(word)\n",
    "        print(wordlist)\n",
    "    print(f\"your list of words for the game are {wordlist}\")\n",
    "    #pick a random word from the list above\n",
    "    \n",
    "\n",
    "worder()\n",
    "rword = random.sample(wordlist,1)\n",
    "print(f\"the chosen word is {rword}\")\n"
   ]
  },
  {
   "cell_type": "code",
   "execution_count": null,
   "metadata": {},
   "outputs": [],
   "source": [
    "#let user pick a letter and system checks if the letter is in the chosen word\n",
    "wplay = input(\"pick your letter\")\n",
    "if len(wplay) > 1:\n",
    "    wcheck = 0\n",
    "    print(\"Please check your entry and try again, you entered more than a word!\")\n",
    "elif len(wplay) == 1:\n",
    "    wcheck = 1\n",
    "else:\n",
    "    print(\"Invalid Input\")\n",
    "    \n",
    "if wcheck == 1:\n",
    "    if wplay in str(rword):\n",
    "        print(f\"You got it right! {rword} has the letter {wplay}\")\n",
    "        win = 1\n",
    "    else:\n",
    "        print(f\"WRONG, you have lost a life {wplay} is not in the word {rword}\")"
   ]
  },
  {
   "cell_type": "code",
   "execution_count": null,
   "metadata": {},
   "outputs": [],
   "source": [
    "#PART 2 \n",
    "# create a program that uses hashes or underscores to replace the play word, and shows tge customer's guess if right inside the word eg,\n",
    "#if guess is'e' in egg the output should be e__ or e--"
   ]
  }
 ],
 "metadata": {
  "kernelspec": {
   "display_name": "Python 3",
   "language": "python",
   "name": "python3"
  },
  "language_info": {
   "codemirror_mode": {
    "name": "ipython",
    "version": 3
   },
   "file_extension": ".py",
   "mimetype": "text/x-python",
   "name": "python",
   "nbconvert_exporter": "python",
   "pygments_lexer": "ipython3",
   "version": "3.12.1"
  }
 },
 "nbformat": 4,
 "nbformat_minor": 2
}
