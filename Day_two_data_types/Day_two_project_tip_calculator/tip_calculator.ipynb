{
 "cells": [
  {
   "cell_type": "code",
   "execution_count": null,
   "metadata": {},
   "outputs": [],
   "source": [
    "#the project is to build a program that:\n",
    "#gets the % tip from the guest as an input\n",
    "#gets the number of guests paying\n",
    "#output how much each person is to pay"
   ]
  },
  {
   "cell_type": "code",
   "execution_count": 23,
   "metadata": {},
   "outputs": [
    {
     "name": "stdout",
     "output_type": "stream",
     "text": [
      "Hello!, welcome to the tip calculator\n",
      "Okay, I won't bore you with the details\n",
      "each person is to pay $33.6, that is $33.60 to 2 decimal places\n"
     ]
    }
   ],
   "source": [
    "print(\"Hello!, welcome to the tip calculator\")\n",
    "totip = float(input(\"how much tip do you wish to give\\n\"))\n",
    "guests = int(input(\"how many guests are paying?\\n\"))\n",
    "total = float(input(\"how much is the total bill?\\n\"))\n",
    "indipay = (totip/100) * total\n",
    "perpay = total+indipay\n",
    "tip = perpay/guests\n",
    "finalamount= \"{:.2f}\".format(tip, 2)\n",
    "query = input(\"will you like to see the breakdown?\\n input 'yes' or 'no'\\n\")\n",
    "if \"yes\" in query:\n",
    "    print(f\"the percantage tip is {totip}\\n there  are {guests} guests\\n the total bill is {total}\\n the {totip} percentage of {total} is {indipay}\\n\")\n",
    "    print(f\"therefore,the total bill plus the tip is {perpay}\")\n",
    "    print(f\"each person is to pay {perpay} divided by {guests}\")\n",
    "elif \"no\" in query:\n",
    "        print(\"Okay, I won't bore you with the details\")\n",
    "else: \n",
    "    print(\"pls reconfirm your input\")\n",
    "print(f\"each person is to pay ${tip}, that is ${finalamount} to 2 decimal places\")"
   ]
  }
 ],
 "metadata": {
  "kernelspec": {
   "display_name": "Python 3",
   "language": "python",
   "name": "python3"
  },
  "language_info": {
   "codemirror_mode": {
    "name": "ipython",
    "version": 3
   },
   "file_extension": ".py",
   "mimetype": "text/x-python",
   "name": "python",
   "nbconvert_exporter": "python",
   "pygments_lexer": "ipython3",
   "version": "3.12.1"
  }
 },
 "nbformat": 4,
 "nbformat_minor": 2
}
