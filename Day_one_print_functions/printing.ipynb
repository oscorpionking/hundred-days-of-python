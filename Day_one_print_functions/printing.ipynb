{
 "cells": [
  {
   "cell_type": "code",
   "execution_count": null,
   "metadata": {},
   "outputs": [],
   "source": [
    "#print functions are used to output text in python. It is enclosed in double or single quotes\n",
    "print(\"welcome to python\")\n",
    "# the above prints out \"Welcome to python\", a single line statement"
   ]
  },
  {
   "cell_type": "code",
   "execution_count": null,
   "metadata": {},
   "outputs": [],
   "source": [
    "# Day 1 task\n",
    "print(\"print(Day 1 - python print function)\")"
   ]
  },
  {
   "cell_type": "code",
   "execution_count": null,
   "metadata": {},
   "outputs": [],
   "source": [
    "# Day 1 task 2 printing to a new line this is done by adding a back slash (\\n) to the break point in the statement\n",
    "print(\"My name is\\nJohn\")"
   ]
  },
  {
   "cell_type": "code",
   "execution_count": null,
   "metadata": {},
   "outputs": [],
   "source": [
    "#strings concatention , joining strings by adding a plus (+) between strings\n",
    "#to add a space, input the space where you want the space to be\n",
    "print(\"I am in love\"+\"with Galadriel\") #without space\n",
    "print(\"I am in love \"+\"with Galadriel\") # with space\n",
    "print(\"I am in love\"+\" \"+\"with Galadriel\") # adding a space as a separate empty string"
   ]
  }
 ],
 "metadata": {
  "kernelspec": {
   "display_name": "Python 3",
   "language": "python",
   "name": "python3"
  },
  "language_info": {
   "codemirror_mode": {
    "name": "ipython",
    "version": 3
   },
   "file_extension": ".py",
   "mimetype": "text/x-python",
   "name": "python",
   "nbconvert_exporter": "python",
   "pygments_lexer": "ipython3",
   "version": "3.12.1"
  }
 },
 "nbformat": 4,
 "nbformat_minor": 2
}
