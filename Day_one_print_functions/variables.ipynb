{
 "cells": [
  {
   "cell_type": "code",
   "execution_count": null,
   "metadata": {},
   "outputs": [],
   "source": [
    "#swapping variables in python\n",
    "#this can be done using the syntax: a,b = b,a\n",
    "# this prints values of a to b and vice versa\n",
    "a = \"Adam\"\n",
    "b = \"Omasan\"\n",
    "a,b = b,a\n",
    "print(\"a is now: \" + a)\n",
    "print (\"b is now: \"+ b)\n",
    "\n",
    "\n"
   ]
  }
 ],
 "metadata": {
  "kernelspec": {
   "display_name": "Python 3",
   "language": "python",
   "name": "python3"
  },
  "language_info": {
   "codemirror_mode": {
    "name": "ipython",
    "version": 3
   },
   "file_extension": ".py",
   "mimetype": "text/x-python",
   "name": "python",
   "nbconvert_exporter": "python",
   "pygments_lexer": "ipython3",
   "version": "3.12.1"
  }
 },
 "nbformat": 4,
 "nbformat_minor": 2
}
