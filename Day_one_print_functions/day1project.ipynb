{
 "cells": [
  {
   "cell_type": "code",
   "execution_count": 1,
   "metadata": {},
   "outputs": [
    {
     "name": "stdout",
     "output_type": "stream",
     "text": [
      "Welcome ozo\n",
      "ozo, I am a program designed to help you genertate a band name\n",
      "oops ozo please check your input and try again\n"
     ]
    }
   ],
   "source": [
    "#DAY 1 PROJECT BAND NAME GENERATOR\n",
    "#this will generate a band name for the user by combining  the name of their city and their pet's name\n",
    "# step 1 create a welcome note for the program\n",
    "greet = input(\"What is your name\\n\")\n",
    "print(\"Welcome \"+ greet)\n",
    "print (greet+\",\"+\" I am a program designed to help you genertate a band name\")\n",
    "ask = input(\"do you wish to continue?\\n Yes \\n No\")\n",
    "if \"yes\" in ask:\n",
    "    city = input(\"pleas input your city name\\n\")\n",
    "    pet = input(\"please input your pet's name\\n\")\n",
    "    print(\"Your band name is \"+ city + pet + \" band\")\n",
    "elif \"no\" in ask:\n",
    "    print (\"Alright \" + greet +\",\" + \" thank you for checking me out, bye\")\n",
    "    \n",
    "else:\n",
    "    print(\"oops \"+ greet + \" please check your input and try again\")"
   ]
  }
 ],
 "metadata": {
  "kernelspec": {
   "display_name": "Python 3",
   "language": "python",
   "name": "python3"
  },
  "language_info": {
   "codemirror_mode": {
    "name": "ipython",
    "version": 3
   },
   "file_extension": ".py",
   "mimetype": "text/x-python",
   "name": "python",
   "nbconvert_exporter": "python",
   "pygments_lexer": "ipython3",
   "version": "3.12.1"
  }
 },
 "nbformat": 4,
 "nbformat_minor": 2
}
