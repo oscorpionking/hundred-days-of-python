{
 "cells": [
  {
   "cell_type": "code",
   "execution_count": null,
   "metadata": {},
   "outputs": [],
   "source": [
    "#DAY 1 PROJECT BAND NAME GENERATOR\n",
    "#this will generate a band name for the user by combining  the name of their city and their pet's name\n",
    "# step 1 create a welcome note for the program\n",
    "greet = input(\"What is your name\\n\")\n",
    "print(\"Welcome \"+ greet)\n",
    "print (greet+\",\"+\" I am a program designed to help you genertate a band name\")\n",
    "ask = input(\"do you wish to continue?\\n Yes \\n No\")\n",
    "if \"yes\" in ask:\n",
    "    city = input(\"pleas input your city name\\n\")\n",
    "    pet = input(\"please input your pet's name\\n\")\n",
    "    print(\"Your band name is \"+ city + pet + \" band\")\n",
    "elif \"no\" in ask:\n",
    "    print (\"Alright \" + greet +\",\" + \" thank you for checking me out, bye\")\n",
    "    \n",
    "else:\n",
    "    print(\"oops \"+ greet + \" please check your input and try again\")"
   ]
  }
 ],
 "metadata": {
  "language_info": {
   "name": "python"
  }
 },
 "nbformat": 4,
 "nbformat_minor": 2
}
