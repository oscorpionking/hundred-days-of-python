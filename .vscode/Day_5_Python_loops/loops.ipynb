{
 "cells": [
  {
   "cell_type": "code",
   "execution_count": null,
   "metadata": {},
   "outputs": [],
   "source": [
    "#loops are used to repetitively access contents of a group of data\n",
    "#eg. to print out contents of a group of men\n",
    "men = [\"Ozo\", \"Pablo\", \"Peter\",\"Edward\", \"Pascal\"]\n",
    "# you can assign any name to the values, but sensible to use an associated name, like 'man' for ech item in a group of men\n",
    "for man in men:\n",
    "    print(man)"
   ]
  },
  {
   "cell_type": "code",
   "execution_count": 11,
   "metadata": {},
   "outputs": [
    {
     "name": "stdout",
     "output_type": "stream",
     "text": [
      "This is the list: ['40', '10', '6', '7']\n",
      "total height = 63\n",
      "number of students = 4\n",
      "average height = 16\n"
     ]
    }
   ],
   "source": [
    "#Exercise Average heights with FOR LOOP\n",
    "\"\"\"You are going to write a program that calculates the average student height from a List of heights. without using SUM or LEN\"\"\"\n",
    "\n",
    "heights = []\n",
    "number = int(input(\"how many students are there?\"))\n",
    "for n in range(0,number):\n",
    "  height = input(f\"enter the number {n+1} student's height\")\n",
    "  heights.append(height)\n",
    "print(f\"This is the list: {heights}\")\n",
    "\n",
    "for n in range(0, len(heights)):\n",
    "  heights[n] = int(heights[n])  \n",
    "totals = 0\n",
    "for height in heights:\n",
    "  totals = totals + height\n",
    "  \n",
    "#print (totals)\n",
    "count = 0\n",
    "for n in heights:\n",
    "  count = count + 1\n",
    "#print(count)\n",
    "averages = (totals/count)\n",
    "average = round(averages)\n",
    "print(f\"total height = {totals}\")\n",
    "print(f\"number of students = {count}\")\n",
    "print(f\"average height = {average}\")\n",
    "  "
   ]
  }
 ],
 "metadata": {
  "kernelspec": {
   "display_name": "Python 3",
   "language": "python",
   "name": "python3"
  },
  "language_info": {
   "codemirror_mode": {
    "name": "ipython",
    "version": 3
   },
   "file_extension": ".py",
   "mimetype": "text/x-python",
   "name": "python",
   "nbconvert_exporter": "python",
   "pygments_lexer": "ipython3",
   "version": "3.12.1"
  }
 },
 "nbformat": 4,
 "nbformat_minor": 2
}
