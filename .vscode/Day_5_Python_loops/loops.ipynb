{
 "cells": [
  {
   "cell_type": "code",
   "execution_count": null,
   "metadata": {},
   "outputs": [],
   "source": [
    "#loops are used to repetitively access contents of a group of data\n",
    "#eg. to print out contents of a group of men\n",
    "men = [\"Ozo\", \"Pablo\", \"Peter\",\"Edward\", \"Pascal\"]\n",
    "# you can assign any name to the values, but sensible to use an associated name, like 'man' for ech item in a group of men\n",
    "for man in men:\n",
    "    print(man)"
   ]
  },
  {
   "cell_type": "code",
   "execution_count": 1,
   "metadata": {},
   "outputs": [
    {
     "name": "stdout",
     "output_type": "stream",
     "text": [
      "This is the list: ['2', '21', '6', '6', '67']\n",
      "total height = 102\n",
      "number of students = 5\n",
      "average height = 20\n"
     ]
    }
   ],
   "source": [
    "#Exercise Average heights with FOR LOOP\n",
    "\"\"\"You are going to write a program that calculates the average student height from a List of heights. without using SUM or LEN\"\"\"\n",
    "\n",
    "heights = []\n",
    "number = int(input(\"how many students are there?\"))\n",
    "for n in range(0,number):\n",
    "  height = input(f\"enter the number {n+1} student's height\")\n",
    "  heights.append(height)\n",
    "print(f\"This is the list: {heights}\")\n",
    "\n",
    "for n in range(0, len(heights)):\n",
    "  heights[n] = int(heights[n])  \n",
    "totals = 0\n",
    "for height in heights:\n",
    "  totals = totals + height\n",
    "  \n",
    "#print (totals)\n",
    "count = 0\n",
    "for n in heights:\n",
    "  count = count + 1\n",
    "#print(count)\n",
    "averages = (totals/count)\n",
    "average = round(averages)\n",
    "print(f\"total height = {totals}\")\n",
    "print(f\"number of students = {count}\")\n",
    "print(f\"average height = {average}\")\n",
    "  "
   ]
  },
  {
   "cell_type": "code",
   "execution_count": null,
   "metadata": {},
   "outputs": [],
   "source": [
    "#FIZZBUZZ GAME\n",
    "\"\"\"You are going to write a program that automatically prints the solution to the FizzBuzz game. These are the rules of the FizzBuzz game:\n",
    "\n",
    "Your program should print each number from 1 to 100 in turn and include number 100.\n",
    "\n",
    "When the number is divisible by 3 then instead of printing the number it should print \"Fizz\".\n",
    "\n",
    "When the number is divisible by 5, then instead of printing the number it should print \"Buzz\".`\n",
    "\n",
    "And if the number is divisible by both 3 and 5 e.g. 15 then instead of the number it should print \"FizzBuzz\" \"\"\"\n",
    "\n"
   ]
  },
  {
   "cell_type": "code",
   "execution_count": null,
   "metadata": {},
   "outputs": [],
   "source": [
    "for n in range(1,101):\n",
    "    string = \"\"\n",
    "    if n%3 == 0:\n",
    "        string = string + \"Fizz\"\n",
    "    if n%5 == 0:\n",
    "        string = string + \"Buzz\"\n",
    "    if(n%3 != 0) and (n%5 != 0):\n",
    "        string = string + str(n)\n",
    "    print(string)\n",
    "\n",
    "    \n"
   ]
  },
  {
   "cell_type": "code",
   "execution_count": 37,
   "metadata": {},
   "outputs": [
    {
     "name": "stdout",
     "output_type": "stream",
     "text": [
      "Good, now let's do the magic!\n",
      "['e', 'i', 'h', 'v']\n",
      "['8', '3', '1', '2']\n",
      "['!', ')', '(', '*']\n",
      "Your new password is *8(3hve)!i12\n"
     ]
    }
   ],
   "source": [
    "#PASSWORD GENERATOR \n",
    "#this can be achieved using the random module, and using rand.sample() to fetch more than one item from the lists.\n",
    "letters = ['a', 'b', 'c', 'd', 'e', 'f', 'g', 'h', 'i', 'j', 'k', 'l', 'm', 'n', 'o', 'p', 'q', 'r', 's', 't', 'u', 'v', 'w', 'x', 'y', 'z']\n",
    "numbers = ['0','1','2','3','4','5','6','7','8','9']\n",
    "symbols = ['!','@','#','$','%','&','*','(',')','+']\n",
    "import random\n",
    "length = int(input(\"How long do you want your password to be?\"))\n",
    "let = int(input(\"How many letters do you want in your password?\"))\n",
    "num = int(input(\"How many numbers do you want in your password?\"))\n",
    "sym = int(input(\"How many symbols do you want in your password?\"))\n",
    "sizeconfirm = 0\n",
    "if let + num + sym == length:\n",
    "    sizeconfirm = 1\n",
    "    print(\"Good, now let's do the magic!\")\n",
    "else:\n",
    "    print(\"ooops!, kindly review your inputs and try again as total password size must be equal to the sum of all the \\n letters \\n numbers \\n symbols that you want to include\")\n",
    "    \n",
    "passwords = \"\"\n",
    "password = \"\"\n",
    "if sizeconfirm ==1:\n",
    "    clet = random.sample(letters,let)\n",
    "    print(clet)\n",
    "    cnum = random.sample(numbers,num)\n",
    "    print(cnum)\n",
    "    csym = random.sample(symbols,sym)\n",
    "    print(csym)\n",
    "    passwords = clet + cnum + csym\n",
    "    passworded = random.sample(passwords,len(passwords))\n",
    "    for item in passworded:\n",
    "        password = password + item\n",
    "    print(f\"Your new password is {password}\")\n",
    "else:\n",
    "    print(\"Sorry, your input is incorrect, please try again\")\n",
    "    \n",
    "\n",
    "\n",
    "\n",
    "\n",
    "    \n",
    "\n"
   ]
  }
 ],
 "metadata": {
  "kernelspec": {
   "display_name": "Python 3",
   "language": "python",
   "name": "python3"
  },
  "language_info": {
   "codemirror_mode": {
    "name": "ipython",
    "version": 3
   },
   "file_extension": ".py",
   "mimetype": "text/x-python",
   "name": "python",
   "nbconvert_exporter": "python",
   "pygments_lexer": "ipython3",
   "version": "3.12.1"
  }
 },
 "nbformat": 4,
 "nbformat_minor": 2
}
