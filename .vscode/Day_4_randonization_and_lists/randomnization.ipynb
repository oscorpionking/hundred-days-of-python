{
 "cells": [
  {
   "cell_type": "code",
   "execution_count": 13,
   "metadata": {},
   "outputs": [
    {
     "name": "stdout",
     "output_type": "stream",
     "text": [
      "19\n"
     ]
    }
   ],
   "source": [
    "# to use the RANDOM module in python we need to import the random module.\n",
    "import random\n",
    "\n",
    "#randint = generate random integegers\n",
    "#randon.random = generate random float numbers between 0 and 1 (excluding 1)\n",
    "random_number = random.randint(2,20)\n",
    "print(random_number)"
   ]
  },
  {
   "cell_type": "code",
   "execution_count": null,
   "metadata": {},
   "outputs": [],
   "source": [
    "#generate a random float number b/w 0 and 5 (by multiplying by 5)\n",
    "print(random.random()*5.0)"
   ]
  },
  {
   "cell_type": "code",
   "execution_count": 53,
   "metadata": {},
   "outputs": [
    {
     "name": "stdout",
     "output_type": "stream",
     "text": [
      "Tails\n"
     ]
    }
   ],
   "source": [
    "#coin toss program\n",
    "\"\"\"You are going to write a virtual coin toss program. It will randomly tell the user \"Heads\" or \"Tails\".\n",
    "\n",
    "Important, the first letter should be capitalised and spelt exactly like in the example e.g. \"Heads\", not \"heads\".\"\"\"\n",
    "#first step is to import the random module.\n",
    "import random\n",
    "toss = random.randint(0,1)\n",
    "if toss == 0:\n",
    "    print(\"Tails\")\n",
    "else:\n",
    "    print(\"Heads\")"
   ]
  },
  {
   "cell_type": "code",
   "execution_count": null,
   "metadata": {},
   "outputs": [],
   "source": [
    "#OFFSETS(INDEX) and appending items to LISTS (square brackets)\n",
    "#eg states in Nigeria by order\n",
    "states = [\"Abia\", \"Adamawa\",\"Akwa Ibom\", \"Anambra\"]\n",
    "# we can fetch items from the list using the index number in a square bracket. Note that indexing starts with the first item as index 0\n",
    "#eg\n",
    "print(states[0])\n",
    "#You can update the list items by using the assignment statement\n",
    "states[0] = \"Umuahia\"\n",
    "print(states[0:2])\n",
    "\n",
    "#APPEND = used to add an item to the end of a lift\n",
    "states.append(\"Bauchi\")\n",
    "print(f\"appended: {states}\")\n",
    "#EXTEND = used to add Items (usually another list) to a list\n",
    "states.extend([\"Yola\", \"Zaria\", \"Rivers\", \"Lagos\"])\n",
    "print(f\"extended: {states}\")\n",
    "#INSERT = add an item at a given position\n",
    "states.insert(1, \"Kwara\")\n",
    "print(f\"Inserted: {states}\")\n",
    "#REMOVE = remove an item from a list\n",
    "states.remove(\"Zaria\")\n",
    "print(f\"Removed: {states}\")\n",
    "#POP = remove an item at a given index\n",
    "states.pop(4)\n",
    "print(f\"Popped: {states}\")"
   ]
  },
  {
   "cell_type": "code",
   "execution_count": 95,
   "metadata": {},
   "outputs": [
    {
     "name": "stdout",
     "output_type": "stream",
     "text": [
      "Kester has been added to the lunch register. \n",
      " Now we have ['Kester']\n",
      "Tolu has been added to the lunch register. \n",
      " Now we have ['Kester', 'Tolu']\n",
      "Omotola has been added to the lunch register. \n",
      " Now we have ['Kester', 'Tolu', 'Omotola']\n",
      "Glory has been added to the lunch register. \n",
      " Now we have ['Kester', 'Tolu', 'Omotola', 'Glory']\n",
      "Temitayo has been added to the lunch register. \n",
      " Now we have ['Kester', 'Tolu', 'Omotola', 'Glory', 'Temitayo']\n",
      "4\n"
     ]
    }
   ],
   "source": [
    "#Exercise Banker roulette\n",
    "\"\"\"You are going to write a program that will select a random name from a list of names. The person selected will have to pay for everybody's food bill.\"\"\"\n",
    "#create a code to accept names of the people going for lunch and add them to a list called NAMES\n",
    "number = int(input(\"How many people are going? \\n\"))\n",
    "#create an empty list\n",
    "names = [ ]\n",
    "def reg():\n",
    "    name = input(\"Please add a name \\n\")\n",
    "    names.append(name)\n",
    "    print(f\"{name} has been added to the lunch register. \\n Now we have {names}\")\n",
    "\n",
    "for x in range(0, number):\n",
    "    reg()\n",
    "\n",
    "numbers = len(names[0:-1])\n",
    "print(numbers)\n",
    "import random"
   ]
  },
  {
   "cell_type": "code",
   "execution_count": null,
   "metadata": {},
   "outputs": [],
   "source": [
    "#To generate random people to pay\n",
    "payer = random.randint(0,numbers)\n",
    "paying = names[payer]\n",
    "\n",
    "print(f\"{paying} is going to buy the meal today!\")"
   ]
  },
  {
   "cell_type": "code",
   "execution_count": 1,
   "metadata": {},
   "outputs": [
    {
     "name": "stdout",
     "output_type": "stream",
     "text": [
      "Hiding your treasure! X marks the spot.\n",
      "You have chosen your spot! A3\n",
      "['⬜️', '️⬜️', '️⬜️']\n",
      "['⬜️', '⬜️', '️⬜️']\n",
      "['X', '⬜️️', '⬜️️']\n"
     ]
    }
   ],
   "source": [
    "# Treasure map exercise\n",
    "\"\"\"First, your program must take the user input and convert it to a usable format.\n",
    "\n",
    "Next, you need to use that input to update your nested list with an \"X\". Remember that your nested list map actually looks like this:\"\"\"\n",
    "line1 = [\"⬜️\",\"️⬜️\",\"️⬜️\"]\n",
    "line2 = [\"⬜️\",\"⬜️\",\"️⬜️\"]\n",
    "line3 = [\"⬜️️\",\"⬜️️\",\"⬜️️\"]\n",
    "map = [line1, line2, line3]\n",
    "print(\"Hiding your treasure! X marks the spot.\")\n",
    "spot = input(\"Select your spot on the Island to check for the treasure\\n A1 \\n A2 \\n A3 \\n B1 \\n B2 \\n B3 \\n C1 \\n C2 \\n C3\").upper()\n",
    "if spot == \"A1\":\n",
    "    map[0][0] = \"X\"\n",
    "    print(f\"You have chosen your spot! {spot}\")\n",
    "    print(f\"{line1}\\n{line2}\\n{line3}\")\n",
    "elif spot == \"A2\":\n",
    "    map[1][0] = \"X\"\n",
    "    print(f\"You have chosen your spot! {spot}\")\n",
    "    print(f\"{line1}\\n{line2}\\n{line3}\")\n",
    "elif spot == \"A3\":\n",
    "    map[2][0] = \"X\"\n",
    "    print(f\"You have chosen your spot! {spot}\")\n",
    "    print(f\"{line1}\\n{line2}\\n{line3}\")\n",
    "elif spot == \"B1\":\n",
    "    map[0][1] = \"X\"\n",
    "    print(f\"You have chosen your spot! {spot}\")\n",
    "    print(f\"{line1}\\n{line2}\\n{line3}\")\n",
    "elif spot == \"B2\":\n",
    "    map[1][1] = \"X\"\n",
    "    print(f\"You have chosen your spot! {spot}\")\n",
    "    print(f\"{line1}\\n{line2}\\n{line3}\")\n",
    "elif spot == \"B3\":\n",
    "    map[2][1] = \"X\"\n",
    "    print(f\"You have chosen your spot! {spot}\")\n",
    "    print(f\"{line1}\\n{line2}\\n{line3}\")\n",
    "elif spot == \"C1\":\n",
    "    map[0][2] = \"X\"\n",
    "    print(f\"You have chosen your spot! {spot}\")\n",
    "    print(f\"{line1}\\n{line2}\\n{line3}\")\n",
    "elif spot == \"C2\":\n",
    "    map[1][2] = \"X\"\n",
    "    print(f\"You have chosen your spot! {spot}\")\n",
    "    print(f\"{line1}\\n{line2}\\n{line3}\")\n",
    "elif spot == \"C3\":\n",
    "    map[2][2] = \"X\"\n",
    "    print(f\"You have chosen your spot! {spot}\")\n",
    "    print(f\"{line1}\\n{line2}\\n{line3}\")\n",
    "else: \n",
    "    print(\"Ooops! \\n wrong input \\n please check the instructions and try again!\")\n"
   ]
  },
  {
   "cell_type": "code",
   "execution_count": null,
   "metadata": {},
   "outputs": [],
   "source": []
  }
 ],
 "metadata": {
  "kernelspec": {
   "display_name": "Python 3",
   "language": "python",
   "name": "python3"
  },
  "language_info": {
   "codemirror_mode": {
    "name": "ipython",
    "version": 3
   },
   "file_extension": ".py",
   "mimetype": "text/x-python",
   "name": "python",
   "nbconvert_exporter": "python",
   "pygments_lexer": "ipython3",
   "version": "3.12.1"
  }
 },
 "nbformat": 4,
 "nbformat_minor": 2
}
